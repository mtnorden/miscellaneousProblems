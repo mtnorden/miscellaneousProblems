{
 "cells": [
  {
   "cell_type": "markdown",
   "metadata": {},
   "source": [
    "![PROBLEM](IMG_0641.jpeg)"
   ]
  },
  {
   "cell_type": "code",
   "execution_count": null,
   "metadata": {},
   "outputs": [
    {
     "name": "stdout",
     "output_type": "stream",
     "text": [
      "The sides are equal and there is no change\n"
     ]
    }
   ],
   "source": [
    "import math\n",
    "\n",
    "#Assume Identical Boxes (Cubes)\n",
    "boxVolume = 1 #m^3\n",
    "gravity = -9.81 #m/s^2\n",
    "\n",
    "#Define Densities\n",
    "waterDensity = 997 #kg/m^3\n",
    "aluminumDensity = 2710 #kg/m^3\n",
    "ironDensity = 7874 #kg/m^3\n",
    "\n",
    "#Define masses\n",
    "ironMass = 1 #kg\n",
    "aluminumMass = 1 #kg\n",
    "\n",
    "#Define volumes\n",
    "ironBallVolume = ironMass / ironDensity\n",
    "aluminumBallVolume = aluminumMass / aluminumDensity\n",
    "\n",
    "\n",
    "#Buoyancy Calculations\n",
    "def buoyantForce(fluidDensity, gravity, ballVolume):\n",
    "    return -fluidDensity*gravity*ballVolume\n",
    "\n",
    "ironBallBuoyancy = buoyantForce(waterDensity,gravity,ironBallVolume)\n",
    "aluminumBallBuoyancy = buoyantForce(waterDensity,gravity,aluminumBallVolume)\n",
    "\n",
    "ironSideWaterMass = (boxVolume - ironBallVolume)*waterDensity\n",
    "aluminumSideWaterMass = (boxVolume - aluminumBallVolume)*waterDensity\n",
    "\n",
    "#Determine which side\n",
    "ironSideNetDown = ironSideWaterMass*-gravity + ironBallBuoyancy\n",
    "aluminumSideNetDown = aluminumSideWaterMass*-gravity + aluminumBallBuoyancy\n",
    "\n",
    "if math.isclose(ironSideNetDown,aluminumSideNetDown):\n",
    "    print(\"The sides are equal and there is no change\")\n",
    "elif ironSideNetDown > aluminumSideNetDown:\n",
    "    print(f\"The iron-side would tip over with a net downward force of {ironSideNetDown:.9f} Newtons compared to {aluminumSideNetDown:.9f} Newtons\")\n",
    "else:\n",
    "    print(f\"The aluminum-side would tip over with a net downward force of {aluminumSideNetDown:.9f} Newtons compared to {ironSideNetDown:.9f} Newtons\")\n",
    "\n"
   ]
  },
  {
   "cell_type": "code",
   "execution_count": null,
   "metadata": {},
   "outputs": [],
   "source": []
  }
 ],
 "metadata": {
  "kernelspec": {
   "display_name": ".venv",
   "language": "python",
   "name": "python3"
  },
  "language_info": {
   "codemirror_mode": {
    "name": "ipython",
    "version": 3
   },
   "file_extension": ".py",
   "mimetype": "text/x-python",
   "name": "python",
   "nbconvert_exporter": "python",
   "pygments_lexer": "ipython3",
   "version": "3.12.9"
  }
 },
 "nbformat": 4,
 "nbformat_minor": 2
}
